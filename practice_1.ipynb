{
 "cells": [
  {
   "cell_type": "code",
   "execution_count": 36,
   "id": "82266cc9",
   "metadata": {},
   "outputs": [],
   "source": [
    "import os\n",
    "import json\n",
    "from dotenv import load_dotenv\n",
    "from openai import OpenAI\n",
    "from anthropic import Anthropic\n",
    "from IPython.display import Markdown, display"
   ]
  },
  {
   "cell_type": "code",
   "execution_count": 37,
   "id": "1bdfcfc5",
   "metadata": {},
   "outputs": [],
   "source": [
    "from openai import OpenAI\n",
    "from anthropic import Anthropic\n",
    "\n",
    "load_dotenv()\n",
    "\n",
    "client = OpenAI()\n",
    "claude = Anthropic()\n",
    "\n",
    "openai_model = \"gpt-4o-mini\"\n",
    "claude_model = \"claude-3-5-haiku-latest\"\n",
    "\n"
   ]
  },
  {
   "cell_type": "code",
   "execution_count": 5,
   "id": "8b940480",
   "metadata": {},
   "outputs": [],
   "source": [
    "question = \"Please propose a hard, challenging question to assess someone's IQ. Respond only with the question.\"\n",
    "content = [{\"role\": \"user\", \"content\": question}]"
   ]
  },
  {
   "cell_type": "code",
   "execution_count": null,
   "id": "1de42b63",
   "metadata": {},
   "outputs": [
    {
     "name": "stdout",
     "output_type": "stream",
     "text": [
      "A bat and a ball cost $1.10 in total. The bat costs $1.00 more than the ball. How much does the ball cost?\n"
     ]
    }
   ],
   "source": [
    "response = client.responses.create(\n",
    "  model=openai_model,\n",
    "  tools=[{\"type\": \"web_search_preview\"}],\n",
    "  input=content\n",
    ")\n",
    "\n",
    "print(response.output_text)\n"
   ]
  },
  {
   "cell_type": "code",
   "execution_count": 12,
   "id": "d3407bed",
   "metadata": {},
   "outputs": [],
   "source": [
    "content = [{\"role\": \"user\", \"content\": response.output_text}]"
   ]
  },
  {
   "cell_type": "code",
   "execution_count": null,
   "id": "76b7bbf8",
   "metadata": {},
   "outputs": [
    {
     "name": "stdout",
     "output_type": "stream",
     "text": [
      "Let's denote the cost of the ball as \\( x \\) dollars.\n",
      "\n",
      "The bat costs $1.00 more than the ball, so the cost of the bat is \\( x + 1.00 \\) dollars.\n",
      "\n",
      "The total cost of the bat and the ball together is $1.10, so we can write the equation:\n",
      "\\[\n",
      "x + (x + 1.00) = 1.10\n",
      "\\]\n",
      "\n",
      "Simplifying the equation:\n",
      "\\[\n",
      "2x + 1.00 = 1.10\n",
      "\\]\n",
      "\\[\n",
      "2x = 1.10 - 1.00\n",
      "\\]\n",
      "\\[\n",
      "2x = 0.10\n",
      "\\]\n",
      "\\[\n",
      "x = 0.10 / 2 = 0.05\n",
      "\\]\n",
      "\n",
      "So, the ball costs 5 cents.\n"
     ]
    }
   ],
   "source": [
    "response = client.responses.create(\n",
    "  model=openai_model,\n",
    "  tools=[{\"type\": \"web_search_preview\"}],\n",
    "  input=content\n",
    ")\n",
    "\n",
    "print(response.output_text)"
   ]
  },
  {
   "cell_type": "code",
   "execution_count": 14,
   "id": "8ce9af16",
   "metadata": {},
   "outputs": [
    {
     "data": {
      "text/markdown": [
       "Let's denote the cost of the ball as \\( x \\) dollars.\n",
       "\n",
       "The bat costs $1.00 more than the ball, so the cost of the bat is \\( x + 1.00 \\) dollars.\n",
       "\n",
       "The total cost of the bat and the ball together is $1.10, so we can write the equation:\n",
       "\\[\n",
       "x + (x + 1.00) = 1.10\n",
       "\\]\n",
       "\n",
       "Simplifying the equation:\n",
       "\\[\n",
       "2x + 1.00 = 1.10\n",
       "\\]\n",
       "\\[\n",
       "2x = 1.10 - 1.00\n",
       "\\]\n",
       "\\[\n",
       "2x = 0.10\n",
       "\\]\n",
       "\\[\n",
       "x = 0.10 / 2 = 0.05\n",
       "\\]\n",
       "\n",
       "So, the ball costs 5 cents."
      ],
      "text/plain": [
       "<IPython.core.display.Markdown object>"
      ]
     },
     "metadata": {},
     "output_type": "display_data"
    }
   ],
   "source": [
    "from IPython.display import Markdown, display\n",
    "\n",
    "display(Markdown(response.output_text))"
   ]
  },
  {
   "cell_type": "code",
   "execution_count": 47,
   "id": "6a7ad9f0",
   "metadata": {},
   "outputs": [
    {
     "name": "stdout",
     "output_type": "stream",
     "text": [
      "How would you construct a moral framework that balances individual rights with societal welfare in the context of emerging technologies, and what potential conflicts might arise from this framework?\n"
     ]
    }
   ],
   "source": [
    "request = \"Please come up with a challenging, nuanced question that I can ask a number of LLMs to evaluate their intelligence. Answer only with the question, no explanation.\"\n",
    "\n",
    "response = client.responses.create(\n",
    "  model=openai_model,\n",
    "  tools=[{\"type\": \"web_search_preview\"}],\n",
    "  input=request\n",
    ")\n",
    "\n",
    "nuanced_question = response.output_text\n",
    "\n",
    "print(response.output_text)"
   ]
  },
  {
   "cell_type": "code",
   "execution_count": 48,
   "id": "2ec9debc",
   "metadata": {},
   "outputs": [],
   "source": [
    "competitors = []\n",
    "answers = []\n",
    "content = [{\"role\": \"user\", \"content\": nuanced_question}]"
   ]
  },
  {
   "cell_type": "code",
   "execution_count": 49,
   "id": "8b4a3dab",
   "metadata": {},
   "outputs": [
    {
     "data": {
      "text/markdown": [
       "Constructing a moral framework that balances individual rights with societal welfare—especially in the context of emerging technologies—requires a careful consideration of ethical principles, stakeholder interests, and cultural contexts. Here’s a structured approach to developing such a framework:\n",
       "\n",
       "### 1. **Principles of the Framework**\n",
       "\n",
       "#### a. **Autonomy**:\n",
       "- **Individual Rights**: Emphasize the importance of personal freedom and decision-making.\n",
       "- **Informed Consent**: Ensure users are fully aware of how technologies impact their lives.\n",
       "\n",
       "#### b. **Utilitarianism**:\n",
       "- **Maximize Welfare**: Aim for the greatest good for the greatest number, considering societal benefits and harms.\n",
       "- **Long-term Impact**: Assess the long-term effects of technologies on society, not just immediate benefits.\n",
       "\n",
       "#### c. **Justice**:\n",
       "- **Equity**: Ensure fair access to technology and its benefits, addressing inequalities.\n",
       "- **Protection of Vulnerable Groups**: Guard against exploitation of marginalized populations.\n",
       "\n",
       "#### d. **Transparency and Accountability**:\n",
       "- **Openness**: Foster a culture of transparency in technological development and deployment.\n",
       "- **Responsibility**: Hold individuals and organizations accountable for the consequences of their technologies.\n",
       "\n",
       "### 2. **Stakeholder Engagement**\n",
       "\n",
       "- **Multidisciplinary Input**: Involve ethicists, technologists, sociologists, policymakers, and the public in discussions about the development and deployment of technologies.\n",
       "- **Inclusion**: Ensure diverse perspectives are represented, especially from impacted communities.\n",
       "\n",
       "### 3. **Regulatory Framework**\n",
       "\n",
       "- **Adaptability**: Create agile regulations that can evolve with technological advancements.\n",
       "- **Oversight Mechanisms**: Establish bodies to oversee the ethical implications of emerging technologies, ensuring compliance with the framework.\n",
       "\n",
       "### 4. **Education and Awareness**\n",
       "\n",
       "- **Public Awareness Campaigns**: Inform citizens about their rights regarding technology and the potential social impacts.\n",
       "- **Ethics in Technology Education**: Embed ethical training in technical education programs to cultivate responsible innovators.\n",
       "\n",
       "### 5. **Monitoring and Evaluation**\n",
       "\n",
       "- **Impact Assessments**: Regularly evaluate the impact of technologies on both individual rights and societal welfare.\n",
       "- **Feedback Loops**: Implement feedback mechanisms where individuals can express concerns about technologies affecting their rights.\n",
       "\n",
       "### Potential Conflicts\n",
       "\n",
       "1. **Privacy vs. Security**:\n",
       "   - Emerging technologies often enhance surveillance capabilities, which could infringe on individual privacy rights for the sake of societal security. Balancing these interests requires careful consideration and policy measures.\n",
       "\n",
       "2. **Innovation vs. Regulation**:\n",
       "   - Striking a balance can hinder innovation if regulations are too strict. Conversely, lenient regulations may lead to ethical breaches and societal harm.\n",
       "\n",
       "3. **Equity vs. Efficiency**:\n",
       "   - Efforts to ensure equitable access may slow down the implementation of efficient technologies, potentially hindering overall societal progress.\n",
       "\n",
       "4. **Individual Freedom vs. Collective Responsibility**:\n",
       "   - The emphasis on individual rights may conflict with the need for collective action to address societal issues (e.g., climate change, public health), potentially creating a tension between personal freedom and social obligation.\n",
       "\n",
       "5. **Cultural Differences**:\n",
       "   - Different societies may have varying views on rights and welfare, complicating the implementation of a universal framework. What is acceptable in one culture may be seen as an infringement in another.\n",
       "\n",
       "### Conclusion\n",
       "\n",
       "Creating a moral framework to balance individual rights with societal welfare in the realm of emerging technologies is complex but essential. This framework should be dynamic, inclusive, and reflective of ethical principles, while maintaining a keen awareness of the potential conflicts that may arise. Continuous dialogue, education, and adaptation will be key to navigating the challenges ahead."
      ],
      "text/plain": [
       "<IPython.core.display.Markdown object>"
      ]
     },
     "metadata": {},
     "output_type": "display_data"
    }
   ],
   "source": [
    "response = client.responses.create(model=openai_model, input=content)\n",
    "answer = response.output_text\n",
    "\n",
    "display(Markdown(answer))\n",
    "competitors.append(openai_model)\n",
    "answers.append(answer)"
   ]
  },
  {
   "cell_type": "code",
   "execution_count": 50,
   "id": "d4faf198",
   "metadata": {},
   "outputs": [
    {
     "data": {
      "text/markdown": [
       "I want to be direct with you. That's a complex philosophical question where thoughtful people can reasonably disagree. I'll share my perspective, but I recognize it's not the only valid approach. I aim to offer an analytical response that explores different considerations.\n",
       "\n",
       "A potential framework might involve:\n",
       "1. Core principles\n",
       "- Respect for individual autonomy\n",
       "- Minimizing harm\n",
       "- Promoting collective wellbeing\n",
       "- Procedural fairness\n",
       "- Transparent decision-making processes\n",
       "\n",
       "2. Technological assessment criteria\n",
       "- Potential individual benefits\n",
       "- Potential societal risks\n",
       "- Scalability of impacts\n",
       "- Reversibility of implementations\n",
       "- Equitable access considerations\n",
       "\n",
       "3. Governance mechanisms\n",
       "- Participatory policy development\n",
       "- Ongoing ethical review boards\n",
       "- Adaptive regulatory approaches\n",
       "- Mechanisms for consent and opt-out\n",
       "- Robust public dialogue processes\n",
       "\n",
       "Potential tensions might include:\n",
       "- Privacy vs collective security\n",
       "- Innovation speed vs precautionary principles\n",
       "- Individual choice vs population-level optimization\n",
       "- Short-term vs long-term consequences\n",
       "\n",
       "This framework would require continuous refinement and democratic deliberation. The goal would be creating flexible mechanisms that can adapt as technological capabilities evolve.\n",
       "\n",
       "Would you be interested in exploring any of these dimensions more deeply? I'm curious to hear your perspective on how you might approach this challenge."
      ],
      "text/plain": [
       "<IPython.core.display.Markdown object>"
      ]
     },
     "metadata": {},
     "output_type": "display_data"
    }
   ],
   "source": [
    "response = claude.messages.create(model=claude_model, messages=content, max_tokens=1000)\n",
    "answer = response.content[0].text\n",
    "\n",
    "display(Markdown(answer))\n",
    "competitors.append(claude_model)\n",
    "answers.append(answer)"
   ]
  },
  {
   "cell_type": "code",
   "execution_count": 51,
   "id": "29f4547d",
   "metadata": {},
   "outputs": [
    {
     "name": "stdout",
     "output_type": "stream",
     "text": [
      "['gpt-4o-mini', 'claude-3-5-haiku-latest']\n",
      "['Constructing a moral framework that balances individual rights with societal welfare—especially in the context of emerging technologies—requires a careful consideration of ethical principles, stakeholder interests, and cultural contexts. Here’s a structured approach to developing such a framework:\\n\\n### 1. **Principles of the Framework**\\n\\n#### a. **Autonomy**:\\n- **Individual Rights**: Emphasize the importance of personal freedom and decision-making.\\n- **Informed Consent**: Ensure users are fully aware of how technologies impact their lives.\\n\\n#### b. **Utilitarianism**:\\n- **Maximize Welfare**: Aim for the greatest good for the greatest number, considering societal benefits and harms.\\n- **Long-term Impact**: Assess the long-term effects of technologies on society, not just immediate benefits.\\n\\n#### c. **Justice**:\\n- **Equity**: Ensure fair access to technology and its benefits, addressing inequalities.\\n- **Protection of Vulnerable Groups**: Guard against exploitation of marginalized populations.\\n\\n#### d. **Transparency and Accountability**:\\n- **Openness**: Foster a culture of transparency in technological development and deployment.\\n- **Responsibility**: Hold individuals and organizations accountable for the consequences of their technologies.\\n\\n### 2. **Stakeholder Engagement**\\n\\n- **Multidisciplinary Input**: Involve ethicists, technologists, sociologists, policymakers, and the public in discussions about the development and deployment of technologies.\\n- **Inclusion**: Ensure diverse perspectives are represented, especially from impacted communities.\\n\\n### 3. **Regulatory Framework**\\n\\n- **Adaptability**: Create agile regulations that can evolve with technological advancements.\\n- **Oversight Mechanisms**: Establish bodies to oversee the ethical implications of emerging technologies, ensuring compliance with the framework.\\n\\n### 4. **Education and Awareness**\\n\\n- **Public Awareness Campaigns**: Inform citizens about their rights regarding technology and the potential social impacts.\\n- **Ethics in Technology Education**: Embed ethical training in technical education programs to cultivate responsible innovators.\\n\\n### 5. **Monitoring and Evaluation**\\n\\n- **Impact Assessments**: Regularly evaluate the impact of technologies on both individual rights and societal welfare.\\n- **Feedback Loops**: Implement feedback mechanisms where individuals can express concerns about technologies affecting their rights.\\n\\n### Potential Conflicts\\n\\n1. **Privacy vs. Security**:\\n   - Emerging technologies often enhance surveillance capabilities, which could infringe on individual privacy rights for the sake of societal security. Balancing these interests requires careful consideration and policy measures.\\n\\n2. **Innovation vs. Regulation**:\\n   - Striking a balance can hinder innovation if regulations are too strict. Conversely, lenient regulations may lead to ethical breaches and societal harm.\\n\\n3. **Equity vs. Efficiency**:\\n   - Efforts to ensure equitable access may slow down the implementation of efficient technologies, potentially hindering overall societal progress.\\n\\n4. **Individual Freedom vs. Collective Responsibility**:\\n   - The emphasis on individual rights may conflict with the need for collective action to address societal issues (e.g., climate change, public health), potentially creating a tension between personal freedom and social obligation.\\n\\n5. **Cultural Differences**:\\n   - Different societies may have varying views on rights and welfare, complicating the implementation of a universal framework. What is acceptable in one culture may be seen as an infringement in another.\\n\\n### Conclusion\\n\\nCreating a moral framework to balance individual rights with societal welfare in the realm of emerging technologies is complex but essential. This framework should be dynamic, inclusive, and reflective of ethical principles, while maintaining a keen awareness of the potential conflicts that may arise. Continuous dialogue, education, and adaptation will be key to navigating the challenges ahead.', \"I want to be direct with you. That's a complex philosophical question where thoughtful people can reasonably disagree. I'll share my perspective, but I recognize it's not the only valid approach. I aim to offer an analytical response that explores different considerations.\\n\\nA potential framework might involve:\\n1. Core principles\\n- Respect for individual autonomy\\n- Minimizing harm\\n- Promoting collective wellbeing\\n- Procedural fairness\\n- Transparent decision-making processes\\n\\n2. Technological assessment criteria\\n- Potential individual benefits\\n- Potential societal risks\\n- Scalability of impacts\\n- Reversibility of implementations\\n- Equitable access considerations\\n\\n3. Governance mechanisms\\n- Participatory policy development\\n- Ongoing ethical review boards\\n- Adaptive regulatory approaches\\n- Mechanisms for consent and opt-out\\n- Robust public dialogue processes\\n\\nPotential tensions might include:\\n- Privacy vs collective security\\n- Innovation speed vs precautionary principles\\n- Individual choice vs population-level optimization\\n- Short-term vs long-term consequences\\n\\nThis framework would require continuous refinement and democratic deliberation. The goal would be creating flexible mechanisms that can adapt as technological capabilities evolve.\\n\\nWould you be interested in exploring any of these dimensions more deeply? I'm curious to hear your perspective on how you might approach this challenge.\"]\n"
     ]
    }
   ],
   "source": [
    "# So where are we?\n",
    "\n",
    "print(competitors)\n",
    "print(answers)\n"
   ]
  },
  {
   "cell_type": "code",
   "execution_count": 52,
   "id": "025fbca1",
   "metadata": {},
   "outputs": [
    {
     "name": "stdout",
     "output_type": "stream",
     "text": [
      "Competitor: gpt-4o-mini\n",
      "\n",
      "Constructing a moral framework that balances individual rights with societal welfare—especially in the context of emerging technologies—requires a careful consideration of ethical principles, stakeholder interests, and cultural contexts. Here’s a structured approach to developing such a framework:\n",
      "\n",
      "### 1. **Principles of the Framework**\n",
      "\n",
      "#### a. **Autonomy**:\n",
      "- **Individual Rights**: Emphasize the importance of personal freedom and decision-making.\n",
      "- **Informed Consent**: Ensure users are fully aware of how technologies impact their lives.\n",
      "\n",
      "#### b. **Utilitarianism**:\n",
      "- **Maximize Welfare**: Aim for the greatest good for the greatest number, considering societal benefits and harms.\n",
      "- **Long-term Impact**: Assess the long-term effects of technologies on society, not just immediate benefits.\n",
      "\n",
      "#### c. **Justice**:\n",
      "- **Equity**: Ensure fair access to technology and its benefits, addressing inequalities.\n",
      "- **Protection of Vulnerable Groups**: Guard against exploitation of marginalized populations.\n",
      "\n",
      "#### d. **Transparency and Accountability**:\n",
      "- **Openness**: Foster a culture of transparency in technological development and deployment.\n",
      "- **Responsibility**: Hold individuals and organizations accountable for the consequences of their technologies.\n",
      "\n",
      "### 2. **Stakeholder Engagement**\n",
      "\n",
      "- **Multidisciplinary Input**: Involve ethicists, technologists, sociologists, policymakers, and the public in discussions about the development and deployment of technologies.\n",
      "- **Inclusion**: Ensure diverse perspectives are represented, especially from impacted communities.\n",
      "\n",
      "### 3. **Regulatory Framework**\n",
      "\n",
      "- **Adaptability**: Create agile regulations that can evolve with technological advancements.\n",
      "- **Oversight Mechanisms**: Establish bodies to oversee the ethical implications of emerging technologies, ensuring compliance with the framework.\n",
      "\n",
      "### 4. **Education and Awareness**\n",
      "\n",
      "- **Public Awareness Campaigns**: Inform citizens about their rights regarding technology and the potential social impacts.\n",
      "- **Ethics in Technology Education**: Embed ethical training in technical education programs to cultivate responsible innovators.\n",
      "\n",
      "### 5. **Monitoring and Evaluation**\n",
      "\n",
      "- **Impact Assessments**: Regularly evaluate the impact of technologies on both individual rights and societal welfare.\n",
      "- **Feedback Loops**: Implement feedback mechanisms where individuals can express concerns about technologies affecting their rights.\n",
      "\n",
      "### Potential Conflicts\n",
      "\n",
      "1. **Privacy vs. Security**:\n",
      "   - Emerging technologies often enhance surveillance capabilities, which could infringe on individual privacy rights for the sake of societal security. Balancing these interests requires careful consideration and policy measures.\n",
      "\n",
      "2. **Innovation vs. Regulation**:\n",
      "   - Striking a balance can hinder innovation if regulations are too strict. Conversely, lenient regulations may lead to ethical breaches and societal harm.\n",
      "\n",
      "3. **Equity vs. Efficiency**:\n",
      "   - Efforts to ensure equitable access may slow down the implementation of efficient technologies, potentially hindering overall societal progress.\n",
      "\n",
      "4. **Individual Freedom vs. Collective Responsibility**:\n",
      "   - The emphasis on individual rights may conflict with the need for collective action to address societal issues (e.g., climate change, public health), potentially creating a tension between personal freedom and social obligation.\n",
      "\n",
      "5. **Cultural Differences**:\n",
      "   - Different societies may have varying views on rights and welfare, complicating the implementation of a universal framework. What is acceptable in one culture may be seen as an infringement in another.\n",
      "\n",
      "### Conclusion\n",
      "\n",
      "Creating a moral framework to balance individual rights with societal welfare in the realm of emerging technologies is complex but essential. This framework should be dynamic, inclusive, and reflective of ethical principles, while maintaining a keen awareness of the potential conflicts that may arise. Continuous dialogue, education, and adaptation will be key to navigating the challenges ahead.\n",
      "Competitor: claude-3-5-haiku-latest\n",
      "\n",
      "I want to be direct with you. That's a complex philosophical question where thoughtful people can reasonably disagree. I'll share my perspective, but I recognize it's not the only valid approach. I aim to offer an analytical response that explores different considerations.\n",
      "\n",
      "A potential framework might involve:\n",
      "1. Core principles\n",
      "- Respect for individual autonomy\n",
      "- Minimizing harm\n",
      "- Promoting collective wellbeing\n",
      "- Procedural fairness\n",
      "- Transparent decision-making processes\n",
      "\n",
      "2. Technological assessment criteria\n",
      "- Potential individual benefits\n",
      "- Potential societal risks\n",
      "- Scalability of impacts\n",
      "- Reversibility of implementations\n",
      "- Equitable access considerations\n",
      "\n",
      "3. Governance mechanisms\n",
      "- Participatory policy development\n",
      "- Ongoing ethical review boards\n",
      "- Adaptive regulatory approaches\n",
      "- Mechanisms for consent and opt-out\n",
      "- Robust public dialogue processes\n",
      "\n",
      "Potential tensions might include:\n",
      "- Privacy vs collective security\n",
      "- Innovation speed vs precautionary principles\n",
      "- Individual choice vs population-level optimization\n",
      "- Short-term vs long-term consequences\n",
      "\n",
      "This framework would require continuous refinement and democratic deliberation. The goal would be creating flexible mechanisms that can adapt as technological capabilities evolve.\n",
      "\n",
      "Would you be interested in exploring any of these dimensions more deeply? I'm curious to hear your perspective on how you might approach this challenge.\n"
     ]
    }
   ],
   "source": [
    "# It's nice to know how to use \"zip\"\n",
    "for competitor, answer in zip(competitors, answers):\n",
    "    print(f\"Competitor: {competitor}\\n\\n{answer}\")\n"
   ]
  },
  {
   "cell_type": "code",
   "execution_count": 53,
   "id": "bdd55775",
   "metadata": {},
   "outputs": [],
   "source": [
    "# Let's bring this together - note the use of \"enumerate\"\n",
    "\n",
    "together = \"\"\n",
    "for index, answer in enumerate(answers):\n",
    "    together += f\"# Response from competitor {index+1}\\n\\n\"\n",
    "    together += answer + \"\\n\\n\""
   ]
  },
  {
   "cell_type": "code",
   "execution_count": 54,
   "id": "067db4c9",
   "metadata": {},
   "outputs": [
    {
     "name": "stdout",
     "output_type": "stream",
     "text": [
      "# Response from competitor 1\n",
      "\n",
      "Constructing a moral framework that balances individual rights with societal welfare—especially in the context of emerging technologies—requires a careful consideration of ethical principles, stakeholder interests, and cultural contexts. Here’s a structured approach to developing such a framework:\n",
      "\n",
      "### 1. **Principles of the Framework**\n",
      "\n",
      "#### a. **Autonomy**:\n",
      "- **Individual Rights**: Emphasize the importance of personal freedom and decision-making.\n",
      "- **Informed Consent**: Ensure users are fully aware of how technologies impact their lives.\n",
      "\n",
      "#### b. **Utilitarianism**:\n",
      "- **Maximize Welfare**: Aim for the greatest good for the greatest number, considering societal benefits and harms.\n",
      "- **Long-term Impact**: Assess the long-term effects of technologies on society, not just immediate benefits.\n",
      "\n",
      "#### c. **Justice**:\n",
      "- **Equity**: Ensure fair access to technology and its benefits, addressing inequalities.\n",
      "- **Protection of Vulnerable Groups**: Guard against exploitation of marginalized populations.\n",
      "\n",
      "#### d. **Transparency and Accountability**:\n",
      "- **Openness**: Foster a culture of transparency in technological development and deployment.\n",
      "- **Responsibility**: Hold individuals and organizations accountable for the consequences of their technologies.\n",
      "\n",
      "### 2. **Stakeholder Engagement**\n",
      "\n",
      "- **Multidisciplinary Input**: Involve ethicists, technologists, sociologists, policymakers, and the public in discussions about the development and deployment of technologies.\n",
      "- **Inclusion**: Ensure diverse perspectives are represented, especially from impacted communities.\n",
      "\n",
      "### 3. **Regulatory Framework**\n",
      "\n",
      "- **Adaptability**: Create agile regulations that can evolve with technological advancements.\n",
      "- **Oversight Mechanisms**: Establish bodies to oversee the ethical implications of emerging technologies, ensuring compliance with the framework.\n",
      "\n",
      "### 4. **Education and Awareness**\n",
      "\n",
      "- **Public Awareness Campaigns**: Inform citizens about their rights regarding technology and the potential social impacts.\n",
      "- **Ethics in Technology Education**: Embed ethical training in technical education programs to cultivate responsible innovators.\n",
      "\n",
      "### 5. **Monitoring and Evaluation**\n",
      "\n",
      "- **Impact Assessments**: Regularly evaluate the impact of technologies on both individual rights and societal welfare.\n",
      "- **Feedback Loops**: Implement feedback mechanisms where individuals can express concerns about technologies affecting their rights.\n",
      "\n",
      "### Potential Conflicts\n",
      "\n",
      "1. **Privacy vs. Security**:\n",
      "   - Emerging technologies often enhance surveillance capabilities, which could infringe on individual privacy rights for the sake of societal security. Balancing these interests requires careful consideration and policy measures.\n",
      "\n",
      "2. **Innovation vs. Regulation**:\n",
      "   - Striking a balance can hinder innovation if regulations are too strict. Conversely, lenient regulations may lead to ethical breaches and societal harm.\n",
      "\n",
      "3. **Equity vs. Efficiency**:\n",
      "   - Efforts to ensure equitable access may slow down the implementation of efficient technologies, potentially hindering overall societal progress.\n",
      "\n",
      "4. **Individual Freedom vs. Collective Responsibility**:\n",
      "   - The emphasis on individual rights may conflict with the need for collective action to address societal issues (e.g., climate change, public health), potentially creating a tension between personal freedom and social obligation.\n",
      "\n",
      "5. **Cultural Differences**:\n",
      "   - Different societies may have varying views on rights and welfare, complicating the implementation of a universal framework. What is acceptable in one culture may be seen as an infringement in another.\n",
      "\n",
      "### Conclusion\n",
      "\n",
      "Creating a moral framework to balance individual rights with societal welfare in the realm of emerging technologies is complex but essential. This framework should be dynamic, inclusive, and reflective of ethical principles, while maintaining a keen awareness of the potential conflicts that may arise. Continuous dialogue, education, and adaptation will be key to navigating the challenges ahead.\n",
      "\n",
      "# Response from competitor 2\n",
      "\n",
      "I want to be direct with you. That's a complex philosophical question where thoughtful people can reasonably disagree. I'll share my perspective, but I recognize it's not the only valid approach. I aim to offer an analytical response that explores different considerations.\n",
      "\n",
      "A potential framework might involve:\n",
      "1. Core principles\n",
      "- Respect for individual autonomy\n",
      "- Minimizing harm\n",
      "- Promoting collective wellbeing\n",
      "- Procedural fairness\n",
      "- Transparent decision-making processes\n",
      "\n",
      "2. Technological assessment criteria\n",
      "- Potential individual benefits\n",
      "- Potential societal risks\n",
      "- Scalability of impacts\n",
      "- Reversibility of implementations\n",
      "- Equitable access considerations\n",
      "\n",
      "3. Governance mechanisms\n",
      "- Participatory policy development\n",
      "- Ongoing ethical review boards\n",
      "- Adaptive regulatory approaches\n",
      "- Mechanisms for consent and opt-out\n",
      "- Robust public dialogue processes\n",
      "\n",
      "Potential tensions might include:\n",
      "- Privacy vs collective security\n",
      "- Innovation speed vs precautionary principles\n",
      "- Individual choice vs population-level optimization\n",
      "- Short-term vs long-term consequences\n",
      "\n",
      "This framework would require continuous refinement and democratic deliberation. The goal would be creating flexible mechanisms that can adapt as technological capabilities evolve.\n",
      "\n",
      "Would you be interested in exploring any of these dimensions more deeply? I'm curious to hear your perspective on how you might approach this challenge.\n",
      "\n",
      "\n"
     ]
    }
   ],
   "source": [
    "print(together)"
   ]
  },
  {
   "cell_type": "code",
   "execution_count": 55,
   "id": "3eeba167",
   "metadata": {},
   "outputs": [],
   "source": [
    "judge = f\"\"\"You are judging a competition between {len(competitors)} competitors.\n",
    "Each model has been given this question:\n",
    "\n",
    "{nuanced_question}\n",
    "\n",
    "Your job is to evaluate each response for clarity and strength of argument, and rank them in order of best to worst.\n",
    "Respond with JSON, and only JSON, with the following format:\n",
    "{{\"results\": [\"best competitor number\", \"second best competitor number\", \"third best competitor number\", ...]}}\n",
    "\n",
    "Here are the responses from each competitor:\n",
    "\n",
    "{together}\n",
    "\n",
    "Now respond with the JSON with the ranked order of the competitors, nothing else. Do not include markdown formatting or code blocks.\"\"\"\n"
   ]
  },
  {
   "cell_type": "code",
   "execution_count": 56,
   "id": "a850d613",
   "metadata": {},
   "outputs": [
    {
     "name": "stdout",
     "output_type": "stream",
     "text": [
      "You are judging a competition between 2 competitors.\n",
      "Each model has been given this question:\n",
      "\n",
      "How would you construct a moral framework that balances individual rights with societal welfare in the context of emerging technologies, and what potential conflicts might arise from this framework?\n",
      "\n",
      "Your job is to evaluate each response for clarity and strength of argument, and rank them in order of best to worst.\n",
      "Respond with JSON, and only JSON, with the following format:\n",
      "{\"results\": [\"best competitor number\", \"second best competitor number\", \"third best competitor number\", ...]}\n",
      "\n",
      "Here are the responses from each competitor:\n",
      "\n",
      "# Response from competitor 1\n",
      "\n",
      "Constructing a moral framework that balances individual rights with societal welfare—especially in the context of emerging technologies—requires a careful consideration of ethical principles, stakeholder interests, and cultural contexts. Here’s a structured approach to developing such a framework:\n",
      "\n",
      "### 1. **Principles of the Framework**\n",
      "\n",
      "#### a. **Autonomy**:\n",
      "- **Individual Rights**: Emphasize the importance of personal freedom and decision-making.\n",
      "- **Informed Consent**: Ensure users are fully aware of how technologies impact their lives.\n",
      "\n",
      "#### b. **Utilitarianism**:\n",
      "- **Maximize Welfare**: Aim for the greatest good for the greatest number, considering societal benefits and harms.\n",
      "- **Long-term Impact**: Assess the long-term effects of technologies on society, not just immediate benefits.\n",
      "\n",
      "#### c. **Justice**:\n",
      "- **Equity**: Ensure fair access to technology and its benefits, addressing inequalities.\n",
      "- **Protection of Vulnerable Groups**: Guard against exploitation of marginalized populations.\n",
      "\n",
      "#### d. **Transparency and Accountability**:\n",
      "- **Openness**: Foster a culture of transparency in technological development and deployment.\n",
      "- **Responsibility**: Hold individuals and organizations accountable for the consequences of their technologies.\n",
      "\n",
      "### 2. **Stakeholder Engagement**\n",
      "\n",
      "- **Multidisciplinary Input**: Involve ethicists, technologists, sociologists, policymakers, and the public in discussions about the development and deployment of technologies.\n",
      "- **Inclusion**: Ensure diverse perspectives are represented, especially from impacted communities.\n",
      "\n",
      "### 3. **Regulatory Framework**\n",
      "\n",
      "- **Adaptability**: Create agile regulations that can evolve with technological advancements.\n",
      "- **Oversight Mechanisms**: Establish bodies to oversee the ethical implications of emerging technologies, ensuring compliance with the framework.\n",
      "\n",
      "### 4. **Education and Awareness**\n",
      "\n",
      "- **Public Awareness Campaigns**: Inform citizens about their rights regarding technology and the potential social impacts.\n",
      "- **Ethics in Technology Education**: Embed ethical training in technical education programs to cultivate responsible innovators.\n",
      "\n",
      "### 5. **Monitoring and Evaluation**\n",
      "\n",
      "- **Impact Assessments**: Regularly evaluate the impact of technologies on both individual rights and societal welfare.\n",
      "- **Feedback Loops**: Implement feedback mechanisms where individuals can express concerns about technologies affecting their rights.\n",
      "\n",
      "### Potential Conflicts\n",
      "\n",
      "1. **Privacy vs. Security**:\n",
      "   - Emerging technologies often enhance surveillance capabilities, which could infringe on individual privacy rights for the sake of societal security. Balancing these interests requires careful consideration and policy measures.\n",
      "\n",
      "2. **Innovation vs. Regulation**:\n",
      "   - Striking a balance can hinder innovation if regulations are too strict. Conversely, lenient regulations may lead to ethical breaches and societal harm.\n",
      "\n",
      "3. **Equity vs. Efficiency**:\n",
      "   - Efforts to ensure equitable access may slow down the implementation of efficient technologies, potentially hindering overall societal progress.\n",
      "\n",
      "4. **Individual Freedom vs. Collective Responsibility**:\n",
      "   - The emphasis on individual rights may conflict with the need for collective action to address societal issues (e.g., climate change, public health), potentially creating a tension between personal freedom and social obligation.\n",
      "\n",
      "5. **Cultural Differences**:\n",
      "   - Different societies may have varying views on rights and welfare, complicating the implementation of a universal framework. What is acceptable in one culture may be seen as an infringement in another.\n",
      "\n",
      "### Conclusion\n",
      "\n",
      "Creating a moral framework to balance individual rights with societal welfare in the realm of emerging technologies is complex but essential. This framework should be dynamic, inclusive, and reflective of ethical principles, while maintaining a keen awareness of the potential conflicts that may arise. Continuous dialogue, education, and adaptation will be key to navigating the challenges ahead.\n",
      "\n",
      "# Response from competitor 2\n",
      "\n",
      "I want to be direct with you. That's a complex philosophical question where thoughtful people can reasonably disagree. I'll share my perspective, but I recognize it's not the only valid approach. I aim to offer an analytical response that explores different considerations.\n",
      "\n",
      "A potential framework might involve:\n",
      "1. Core principles\n",
      "- Respect for individual autonomy\n",
      "- Minimizing harm\n",
      "- Promoting collective wellbeing\n",
      "- Procedural fairness\n",
      "- Transparent decision-making processes\n",
      "\n",
      "2. Technological assessment criteria\n",
      "- Potential individual benefits\n",
      "- Potential societal risks\n",
      "- Scalability of impacts\n",
      "- Reversibility of implementations\n",
      "- Equitable access considerations\n",
      "\n",
      "3. Governance mechanisms\n",
      "- Participatory policy development\n",
      "- Ongoing ethical review boards\n",
      "- Adaptive regulatory approaches\n",
      "- Mechanisms for consent and opt-out\n",
      "- Robust public dialogue processes\n",
      "\n",
      "Potential tensions might include:\n",
      "- Privacy vs collective security\n",
      "- Innovation speed vs precautionary principles\n",
      "- Individual choice vs population-level optimization\n",
      "- Short-term vs long-term consequences\n",
      "\n",
      "This framework would require continuous refinement and democratic deliberation. The goal would be creating flexible mechanisms that can adapt as technological capabilities evolve.\n",
      "\n",
      "Would you be interested in exploring any of these dimensions more deeply? I'm curious to hear your perspective on how you might approach this challenge.\n",
      "\n",
      "\n",
      "\n",
      "Now respond with the JSON with the ranked order of the competitors, nothing else. Do not include markdown formatting or code blocks.\n"
     ]
    }
   ],
   "source": [
    "print(judge)"
   ]
  },
  {
   "cell_type": "code",
   "execution_count": 57,
   "id": "24b26d93",
   "metadata": {},
   "outputs": [],
   "source": [
    "judge_messages = [{\"role\": \"user\", \"content\": judge}]"
   ]
  },
  {
   "cell_type": "code",
   "execution_count": 58,
   "id": "f2cd54c7",
   "metadata": {},
   "outputs": [
    {
     "name": "stdout",
     "output_type": "stream",
     "text": [
      "{\"results\": [\"1\", \"2\"]}\n"
     ]
    }
   ],
   "source": [
    "# Judgement time!\n",
    "\n",
    "openai = OpenAI()\n",
    "response = client.responses.create(\n",
    "    model=openai_model,\n",
    "    input=judge_messages,\n",
    ")\n",
    "results = response.output_text\n",
    "print(results)\n"
   ]
  },
  {
   "cell_type": "code",
   "execution_count": 60,
   "id": "fc1ee9a1",
   "metadata": {},
   "outputs": [
    {
     "name": "stdout",
     "output_type": "stream",
     "text": [
      "['1', '2']\n",
      "Rank 1: gpt-4o-mini\n",
      "Rank 2: claude-3-5-haiku-latest\n"
     ]
    }
   ],
   "source": [
    "# OK let's turn this into results!\n",
    "\n",
    "results_dict = json.loads(results)\n",
    "ranks = results_dict[\"results\"] \n",
    "print(ranks)\n",
    "for index, result in enumerate(ranks):\n",
    "    competitor = competitors[int(result)-1]\n",
    "    print(f\"Rank {index+1}: {competitor}\")"
   ]
  }
 ],
 "metadata": {
  "kernelspec": {
   "display_name": "agents",
   "language": "python",
   "name": "python3"
  },
  "language_info": {
   "codemirror_mode": {
    "name": "ipython",
    "version": 3
   },
   "file_extension": ".py",
   "mimetype": "text/x-python",
   "name": "python",
   "nbconvert_exporter": "python",
   "pygments_lexer": "ipython3",
   "version": "3.13.5"
  }
 },
 "nbformat": 4,
 "nbformat_minor": 5
}
