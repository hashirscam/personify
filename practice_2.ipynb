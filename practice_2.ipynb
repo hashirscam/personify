{
 "cells": [
  {
   "cell_type": "code",
   "execution_count": 11,
   "id": "c9855c7b",
   "metadata": {},
   "outputs": [],
   "source": [
    "# The imports\n",
    "\n",
    "from dotenv import load_dotenv\n",
    "from agents import Agent, Runner, trace\n",
    "from openai.types.responses import ResponseTextDeltaEvent\n",
    "\n"
   ]
  },
  {
   "cell_type": "code",
   "execution_count": 12,
   "id": "00a002a2",
   "metadata": {},
   "outputs": [
    {
     "data": {
      "text/plain": [
       "True"
      ]
     },
     "execution_count": 12,
     "metadata": {},
     "output_type": "execute_result"
    }
   ],
   "source": [
    "# The usual starting point\n",
    "\n",
    "load_dotenv(override=True)\n"
   ]
  },
  {
   "cell_type": "code",
   "execution_count": 13,
   "id": "ca539645",
   "metadata": {},
   "outputs": [],
   "source": [
    "personify = Agent(name=\"Personal Statement Writer\", instructions=\"You are a personal statement writer. You write personal statements for students who are applying to a MS or PHD program in Computer Science. You will be given a prompt and you will write a personal statement for a PhD program in Computer Science. You will always make sure that the personal statement is 200 words long.\", model=\"gpt-4o-mini\")\n",
    "\n"
   ]
  },
  {
   "cell_type": "code",
   "execution_count": 15,
   "id": "698588a8",
   "metadata": {},
   "outputs": [
    {
     "name": "stdout",
     "output_type": "stream",
     "text": [
      "As a computer scientist devoted to creating scalable and efficient systems, my journey has been shaped by a profound interest in the intersection of computer science and artificial intelligence (AI). My academic foundation, reinforced by both coursework and practical projects, has equipped me with the requisite skills to thrive in this dynamic field. \n",
      "\n",
      "During my undergraduate studies, I developed a keen understanding of algorithm design and data structures, which I applied in a project optimizing cloud resource allocation using machine learning techniques. This experience ignited my desire to explore AI's potential in system efficiency further. I am particularly fascinated by how AI can enhance distributed systems and improve real-time decision-making processes.\n",
      "\n",
      "I am especially drawn to [University Name] due to its pioneering research in AI and its commitment to interdisciplinary studies. I am eager to collaborate with faculty members whose research aligns with my interests, particularly in developing intelligent algorithms that address large-scale system challenges.\n",
      "\n",
      "Pursuing a Ph.D. at [University Name] will provide me the opportunity to deepen my knowledge and contribute to advancing the future of technology through innovative research. I am excited about the possibility of making a meaningful impact in this transformative field."
     ]
    }
   ],
   "source": [
    "result = Runner.run_streamed(personify, input= \"I am a computer scientist with a passion for building scalable and efficient systems. I am interested in the intersection of computer science and artificial intelligence, and I am looking for a PhD program that will allow me to explore this intersection.\")\n",
    "async for event in result.stream_events():\n",
    "    if event.type == \"raw_response_event\" and isinstance(event.data, ResponseTextDeltaEvent):\n",
    "        print(event.data.delta, end=\"\", flush=True)"
   ]
  },
  {
   "cell_type": "code",
   "execution_count": null,
   "id": "88ab28a8",
   "metadata": {},
   "outputs": [],
   "source": [
    "with trace(\"Writing a statement\"):\n",
    "    result = await Runner.run(personify, \"I am a computer scientist with a passion for building scalable and efficient systems. I am interested in the intersection of computer science and artificial intelligence, and I am looking for a PhD program that will allow me to explore this intersection.\")\n",
    "    print(result.final_output)"
   ]
  }
 ],
 "metadata": {
  "kernelspec": {
   "display_name": "personify",
   "language": "python",
   "name": "python3"
  },
  "language_info": {
   "codemirror_mode": {
    "name": "ipython",
    "version": 3
   },
   "file_extension": ".py",
   "mimetype": "text/x-python",
   "name": "python",
   "nbconvert_exporter": "python",
   "pygments_lexer": "ipython3",
   "version": "3.11.11"
  }
 },
 "nbformat": 4,
 "nbformat_minor": 5
}
